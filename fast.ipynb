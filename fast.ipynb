{
 "cells": [
  {
   "cell_type": "code",
   "execution_count": 1,
   "metadata": {},
   "outputs": [
    {
     "name": "stdout",
     "output_type": "stream",
     "text": [
      "(0, 2)\n"
     ]
    }
   ],
   "source": [
    "def twoSum(arr, target):\n",
    "    if len(arr) <= 1:\n",
    "        return \n",
    "    hashMap = {}\n",
    "    for i, ele in enumerate(arr):\n",
    "        if (target-ele) in hashMap:\n",
    "            return (hashMap[target-ele], i)\n",
    "        else:\n",
    "            hashMap[ele] = i\n",
    "\n",
    "print(twoSum([2,9,7,1,3], 9))"
   ]
  },
  {
   "cell_type": "markdown",
   "metadata": {},
   "source": [
    "Idea is to check if complement(target-currEle) of element exist in array or not.\n",
    "If it exist then just return those indices else put them into hashMap\n",
    "(ele as key and i as indices)."
   ]
  },
  {
   "cell_type": "code",
   "execution_count": 20,
   "metadata": {},
   "outputs": [
    {
     "name": "stdout",
     "output_type": "stream",
     "text": [
      "True\n"
     ]
    }
   ],
   "source": [
    "def containsDuplicateUsingDict(nums):\n",
    "    d = {}\n",
    "    for num in nums:\n",
    "        if num not in d:\n",
    "            d[num] = 1\n",
    "        else:\n",
    "            return True\n",
    "    return False\n",
    "\n",
    "    # d = {}\n",
    "    # for num in nums:\n",
    "    #     if num not in d:\n",
    "    #         d[num] = 1\n",
    "    #     else:\n",
    "    #         d[num] += 1\n",
    "    # for val in d.values():\n",
    "    #     if val > 1:\n",
    "    #         return True\n",
    "    # return False\n",
    "\n",
    "arr = [1,2,3,1]\n",
    "print(containsDuplicateUsingDict(arr))"
   ]
  },
  {
   "cell_type": "markdown",
   "metadata": {},
   "source": [
    "Idea here is to store frequencies of elements in an array and if frequency of any element is greater than 1 then return True."
   ]
  },
  {
   "cell_type": "code",
   "execution_count": 18,
   "metadata": {},
   "outputs": [
    {
     "name": "stdout",
     "output_type": "stream",
     "text": [
      "True\n"
     ]
    }
   ],
   "source": [
    "def containsDuplicateUsingSet(nums):\n",
    "    return len(set(nums)) == len(nums)\n",
    "\n",
    "arr = [1,2,3,1]\n",
    "print(containsDuplicateUsingDict(arr))"
   ]
  },
  {
   "cell_type": "markdown",
   "metadata": {},
   "source": [
    "Just compare length of original array and length of all elements if stored in set."
   ]
  },
  {
   "cell_type": "code",
   "execution_count": 2,
   "metadata": {},
   "outputs": [
    {
     "name": "stdout",
     "output_type": "stream",
     "text": [
      "1\n"
     ]
    }
   ],
   "source": [
    "def minMaxSum(arr):\n",
    "    if len(arr) == 1: return arr[0] + arr[0]\n",
    "    mn = float('inf')\n",
    "    mx = float('-inf')\n",
    "    for ele in arr:\n",
    "        if ele > mx:\n",
    "            mx = ele\n",
    "        if ele < mn:\n",
    "            mn = ele\n",
    "    return mx + mn\n",
    "\n",
    "print(minMaxSum([-2, 1, -4, 5, 3]))"
   ]
  },
  {
   "cell_type": "markdown",
   "metadata": {},
   "source": [
    "Idea is to initialize the minimum as maximum infinite and maximum as minimum infinite and\n",
    "then compare at every iteration,current value with minimum and maximum."
   ]
  },
  {
   "cell_type": "code",
   "execution_count": 3,
   "metadata": {},
   "outputs": [
    {
     "name": "stdout",
     "output_type": "stream",
     "text": [
      "5 -4\n",
      "1\n"
     ]
    }
   ],
   "source": [
    "def minMaxSum(arr, low, high):\n",
    "    mn = arr[low]\n",
    "    mx = arr[low]\n",
    "    if low == high:\n",
    "        mn = arr[low]\n",
    "        mx = arr[low]\n",
    "        return (mx, mn)\n",
    "    elif low + 1 == high:\n",
    "        mn = min(arr[low], arr[high])\n",
    "        mx = max(arr[low], arr[high])\n",
    "        return (mx, mn)\n",
    "    else:  \n",
    "        mid = (low + high)//2\n",
    "        mx1, mn1 = minMaxSum(arr, low, mid)\n",
    "        mx2, mn2 = minMaxSum(arr, mid+1, high)\n",
    "    return (max(mx1, mx2) , min(mn1, mn2))\n",
    "arr = [-2, 1, -4, 5, 3]\n",
    "mx, mn = minMaxSum(arr, 0, len(arr)-1)\n",
    "print(mx, mn)\n",
    "print(mx+mn)"
   ]
  },
  {
   "cell_type": "markdown",
   "metadata": {},
   "source": [
    "Idea is to check for three conditions i.e.\n",
    "if there is only one element in array then first element would be minumum and maximum\n",
    "if there is only two elements in array then  compare these two elements which is maximum and minumum\n",
    "if there is more than two elements in array then partition the array into two parts\n",
    "and then find minimum and maximum in those partition recursively and then compare \n",
    "minimum and maximum between those two partition."
   ]
  },
  {
   "cell_type": "code",
   "execution_count": 4,
   "metadata": {},
   "outputs": [
    {
     "name": "stdout",
     "output_type": "stream",
     "text": [
      "3001\n"
     ]
    }
   ],
   "source": [
    "def minMaxSum(arr):\n",
    "    if len(arr) % 2 == 0:\n",
    "        mx = max(arr[0], arr[1])\n",
    "        mn = min(arr[0], arr[1])\n",
    "        i = 2\n",
    "    else:\n",
    "        mx = mn = arr[0]\n",
    "        i = 1\n",
    "    while i < len(arr) -1:\n",
    "        if arr[i] < arr[i+1]:\n",
    "            mx = max(mx, arr[i+1])\n",
    "            mn = min(mn, arr[i])\n",
    "        else:\n",
    "            mx = max(mx, arr[i])\n",
    "            mn = min(mn, arr[i+1])\n",
    "        i += 2\n",
    "    return mx + mn\n",
    "\n",
    "arr = [1000, 11, 445, 1, 330, 3000]\n",
    "print(minMaxSum(arr))\n",
    "        "
   ]
  },
  {
   "cell_type": "markdown",
   "metadata": {},
   "source": [
    "Idea is to check for two conditions here first i.e.,\n",
    "if array length is even then compare first and second elements of array for minumum and maximum\n",
    "if array length is odd then first element of array will be minimum or maximum.\n",
    "After that iterate over elements of array skiping one elements i.e., step= 2\n",
    "Compare the first and second elements in each iteration if they are minimum or maximum."
   ]
  },
  {
   "cell_type": "code",
   "execution_count": 5,
   "metadata": {},
   "outputs": [
    {
     "name": "stdout",
     "output_type": "stream",
     "text": [
      "[5, 34, 2, 1]\n"
     ]
    }
   ],
   "source": [
    "def reverseArr(arr):\n",
    "    return arr[::-1]\n",
    "arr = [1,2,34,5]\n",
    "print(reverseArr(arr))"
   ]
  },
  {
   "cell_type": "code",
   "execution_count": 6,
   "metadata": {},
   "outputs": [
    {
     "name": "stdout",
     "output_type": "stream",
     "text": [
      "[4, 4, 2, 1]\n"
     ]
    }
   ],
   "source": [
    "def reverseArr(arr):\n",
    "    if len(arr) <= 1: return arr\n",
    "    l = 0\n",
    "    h = len(arr) - 1\n",
    "    while l < h:\n",
    "        arr[l],arr[h] = arr[h], arr[l]\n",
    "        l += 1\n",
    "        h -= 1\n",
    "    return arr\n",
    "arr = [1,2,4,4]\n",
    "print(reverseArr(arr)) "
   ]
  },
  {
   "cell_type": "markdown",
   "metadata": {},
   "source": [
    "Idea is to use two pointer and just keep swapping elements."
   ]
  },
  {
   "cell_type": "code",
   "execution_count": 7,
   "metadata": {},
   "outputs": [
    {
     "name": "stdout",
     "output_type": "stream",
     "text": [
      "[9, 9, 8, 7, 6, 5, 4, 3, 1]\n"
     ]
    }
   ],
   "source": [
    "def reverseArr(arr):\n",
    "    stack = []\n",
    "    for idx in range(len(arr) -1, -1, -1):\n",
    "        stack.append(arr[idx])\n",
    "    return stack\n",
    "arr = [1,3,4,5,6,7,8,9,9]\n",
    "print(reverseArr(arr))"
   ]
  },
  {
   "cell_type": "markdown",
   "metadata": {},
   "source": [
    "Idea is to use stack or arr to store and iterate backward"
   ]
  },
  {
   "cell_type": "code",
   "execution_count": 1,
   "metadata": {},
   "outputs": [
    {
     "name": "stdout",
     "output_type": "stream",
     "text": [
      "[9, 9, 8, 7, 6, 5, 4, 3, 1]\n"
     ]
    }
   ],
   "source": [
    "def reverseArrRecursive(arr, start, end):\n",
    "    if start > end:\n",
    "        return \n",
    "    arr[start],arr[end] = arr[end], arr[start]\n",
    "    reverseArrRecursive(arr, start + 1, end - 1)\n",
    "    return arr\n",
    "\n",
    "arr = [1,3,4,5,6,7,8,9,9]\n",
    "print(reverseArrRecursive(arr, 0, len(arr) -1))\n",
    "    "
   ]
  },
  {
   "cell_type": "code",
   "execution_count": 5,
   "metadata": {},
   "outputs": [
    {
     "name": "stdout",
     "output_type": "stream",
     "text": [
      "(4, [2, 4, 7, 9, 12, 23, 25, 28, 30, 30, 40, 41, 42, 43, 44, 48, 50])\n"
     ]
    }
   ],
   "source": [
    "def chocolatedistribution(arr, m, n):\n",
    "    arr.sort()\n",
    "    minDiff = arr[n-1] - arr[0]\n",
    "    for i in range(len(arr) - m + 1):\n",
    "        minDiff = min(minDiff, arr[i+m-1] -arr[i])\n",
    "    return minDiff,arr\n",
    "\n",
    "arr = [12, 4, 7, 9, 2, 23, 25, 41,30, 40, 28, 42, 30, 44, 48, 43, 50]\n",
    "n = len(arr)\n",
    "m = 5\n",
    "print(chocolatedistribution(arr, m, n))"
   ]
  },
  {
   "cell_type": "markdown",
   "metadata": {},
   "source": [
    "Idea is to first sort the array then declare a variable that will first hold difference of maximum and minimum elements in an array because this can be possible answer but since size of maximum subarray is usually less than array length so we need to update minDiff by sliding through part of array or maybe whole array and compute difference between arr[m + i -1] and current element where i represent index of current element."
   ]
  },
  {
   "cell_type": "code",
   "execution_count": 9,
   "metadata": {},
   "outputs": [
    {
     "name": "stdout",
     "output_type": "stream",
     "text": [
      "6\n"
     ]
    }
   ],
   "source": [
    "def maximumSubarraySum(arr):\n",
    "    \"This is kadane's algorithm\"\n",
    "    maxSubarraySum = arr[0]\n",
    "    maxSubarraySumSoFar = arr[0]\n",
    "    for currEle in arr[1:]:\n",
    "        maxSubarraySumSoFar = max(currEle, maxSubarraySumSoFar + currEle)\n",
    "        maxSubarraySum = max(maxSubarraySumSoFar, maxSubarraySum)\n",
    "    return maxSubarraySum\n",
    "arr = [-2,1,-3,4,-1,2,1,-5,4]\n",
    "print(maximumSubarraySum(arr))"
   ]
  },
  {
   "cell_type": "markdown",
   "metadata": {},
   "source": [
    "Idea here is just to keep track of current maximum sum and max sum so far."
   ]
  },
  {
   "cell_type": "code",
   "execution_count": 10,
   "metadata": {},
   "outputs": [
    {
     "name": "stdout",
     "output_type": "stream",
     "text": [
      "10\n"
     ]
    }
   ],
   "source": [
    "def maximumSubarraySum(arr):\n",
    "    \"Find sum of every possible subarray in arr\"\n",
    "    max_sm = float('-inf')\n",
    "    for i in range(len(arr)):\n",
    "        for j in range(i, len(arr)):\n",
    "            sm = 0\n",
    "            for k in range(i, j+1):\n",
    "                sm += arr[k]\n",
    "            max_sm = max(sm, max_sm)\n",
    "    return max_sm\n",
    "\n",
    "arr = [9,-8,1,2,-2,3,5,-4]\n",
    "print(maximumSubarraySum(arr))\n",
    "                "
   ]
  },
  {
   "cell_type": "markdown",
   "metadata": {},
   "source": [
    "Idea here is to find sum of every subarray possible using three loop ,where one loop will serve as starting index of subarray\n",
    "one loop will be ending index of subarray and third loop for calculating the sum of subarray between those starting and endiing index."
   ]
  },
  {
   "cell_type": "code",
   "execution_count": 11,
   "metadata": {},
   "outputs": [
    {
     "name": "stdout",
     "output_type": "stream",
     "text": [
      "6\n"
     ]
    }
   ],
   "source": [
    "def maximumSubarraySum(arr):\n",
    "    \"Find sum of every subarray using two loop\"\n",
    "    max_sm = arr[0]\n",
    "    for i in range(len(arr)):\n",
    "        sm = 0\n",
    "        for j in range(i,len(arr)):\n",
    "            sm += arr[j]\n",
    "            max_sm = max(sm, max_sm)\n",
    "    return max_sm\n",
    "\n",
    "arr = [-2,1,-3,4,-1,2,1,-5,4]\n",
    "print(maximumSubarraySum(arr))"
   ]
  },
  {
   "cell_type": "markdown",
   "metadata": {},
   "source": [
    "Idea here is just to use two loop and use two variable, one for finding prefix sum and other to keep comparing curr maximum sum ."
   ]
  },
  {
   "cell_type": "code",
   "execution_count": 12,
   "metadata": {},
   "outputs": [
    {
     "name": "stdout",
     "output_type": "stream",
     "text": [
      "None\n"
     ]
    }
   ],
   "source": [
    "def maximumSubarraySumRecursion(arr):\n",
    "    pass\n",
    "\n",
    "arr = [-2,1,-3,4,-1,2,1,-5,4]\n",
    "print(maximumSubarraySumRecursion(arr))"
   ]
  },
  {
   "cell_type": "code",
   "execution_count": 13,
   "metadata": {},
   "outputs": [
    {
     "name": "stdout",
     "output_type": "stream",
     "text": [
      "[0, 0, 0, 1, 1, 1, 1, 2, 2]\n"
     ]
    }
   ],
   "source": [
    "def dutchflag_sort(arr):\n",
    "    if len(arr) <=1 : return arr\n",
    "    low = 0\n",
    "    mid = 0\n",
    "    high = len(arr) - 1\n",
    "    while mid <= high:\n",
    "        if arr[mid] == 0:\n",
    "            arr[low], arr[mid] = arr[mid], arr[low]\n",
    "            low += 1\n",
    "            mid += 1\n",
    "        elif arr[mid] == 1:\n",
    "            mid += 1\n",
    "        else:\n",
    "            arr[mid], arr[high] = arr[high], arr[mid]\n",
    "            high -= 1\n",
    "    return arr\n",
    "\n",
    "arr = [0, 1, 2, 1, 0, 1, 2, 0, 1]\n",
    "print(dutchflag_sort(arr))\n",
    "    "
   ]
  },
  {
   "cell_type": "markdown",
   "metadata": {},
   "source": [
    "Check for three condition whether arr[mid] == 0, arr[mid] == 1, or arr[mid] == 2.if arr[mid] == 0 swap(arr[low], arr[mid]) and increase low, mid.if arr[mid] == 1 increase mid.if arr[mid] == 2 swap(arr[mid], arr[high]) and decrease high."
   ]
  },
  {
   "cell_type": "code",
   "execution_count": 14,
   "metadata": {},
   "outputs": [
    {
     "name": "stdout",
     "output_type": "stream",
     "text": [
      "3\n"
     ]
    }
   ],
   "source": [
    "def longestSubstringWithoutRepetition(strng):\n",
    "    res = \"\"\n",
    "    ans = \"\"\n",
    "    for char in strng:\n",
    "        if char not in res:\n",
    "            res += char\n",
    "            if len(res) > len(ans):\n",
    "                ans = res\n",
    "        else:\n",
    "            res = res[res.index(char)+ 1:] + char\n",
    "    return len(ans)\n",
    "s = \"pwwkew\"\n",
    "print(longestSubstringWithoutRepetition(s))"
   ]
  },
  {
   "cell_type": "markdown",
   "metadata": {},
   "source": [
    "Idea here is to keep adding characters in res if they are not already present and keep checking whether length of res is greater than ans, if so then update ans by assinging it to res and if char is already present in res then extract out all before that repeated characer and start building new string of unique characters."
   ]
  },
  {
   "cell_type": "code",
   "execution_count": 15,
   "metadata": {},
   "outputs": [
    {
     "name": "stdout",
     "output_type": "stream",
     "text": [
      "3\n"
     ]
    }
   ],
   "source": [
    "def longestSubstringWithoutRepetition(strng):\n",
    "    left = 0\n",
    "    seen = {}\n",
    "    res = 0\n",
    "    for right, curr in enumerate(strng):\n",
    "        if curr in seen:\n",
    "            left = max(left, seen[curr]+ 1)\n",
    "        res = max(res, right - left + 1)\n",
    "        seen[curr] = right\n",
    "    return res\n",
    "\n",
    "s = \"pwwkew\"\n",
    "print(longestSubstringWithoutRepetition(s))"
   ]
  },
  {
   "cell_type": "markdown",
   "metadata": {},
   "source": [
    "Idea here is to just keep track of left pointer which will gonna be changed whenever there is repetition and keep updating res and keep putting and updating corresponding index of characters in dictionary."
   ]
  },
  {
   "cell_type": "code",
   "execution_count": 16,
   "metadata": {},
   "outputs": [
    {
     "name": "stdout",
     "output_type": "stream",
     "text": [
      "5\n"
     ]
    }
   ],
   "source": [
    "def maximumProfitStock(prices):\n",
    "    buy = prices[0]\n",
    "    maxProfit = 0\n",
    "    for price in prices:\n",
    "        if price - buy > maxProfit:\n",
    "            maxProfit = price - buy\n",
    "        if buy > price:\n",
    "            buy = price\n",
    "            \n",
    "    return maxProfit\n",
    "\n",
    "prices = [7,1,5,3,6,4]\n",
    "print(maximumProfitStock(prices))"
   ]
  },
  {
   "cell_type": "markdown",
   "metadata": {},
   "source": [
    "Idea here is to just keep track of lowest possible cost price and highest possible selling price but buy first sell later."
   ]
  },
  {
   "cell_type": "code",
   "execution_count": 10,
   "metadata": {},
   "outputs": [
    {
     "name": "stdout",
     "output_type": "stream",
     "text": [
      "2\n"
     ]
    }
   ],
   "source": [
    "def searchRotatedSortedArray(arr, trgt):\n",
    "    low = 0\n",
    "    high = len(arr)\n",
    "    while low < high:\n",
    "        mid = low + (high - low) // 2\n",
    "        if trgt >= arr[0] > arr[mid]:\n",
    "            high = mid\n",
    "        elif trgt < arr[0] < arr[mid]:\n",
    "            low = mid + 1\n",
    "        elif trgt > arr[mid]:\n",
    "            low = mid + 1\n",
    "        elif trgt < arr[mid]:\n",
    "            high = mid\n",
    "        else:\n",
    "            return mid\n",
    "    return -1\n",
    "arr = [4,5,6,7,0,1,2]\n",
    "trgt = 6\n",
    "print(searchRotatedSortedArray(arr, trgt))"
   ]
  },
  {
   "cell_type": "markdown",
   "metadata": {},
   "source": [
    "Idea here is make right half +ve inf if target lies in left half and make left half as -ve inf if target lies in right half and then apply binary search on that sorted part of array."
   ]
  },
  {
   "cell_type": "code",
   "execution_count": 1,
   "metadata": {},
   "outputs": [
    {
     "name": "stdout",
     "output_type": "stream",
     "text": [
      "2\n"
     ]
    }
   ],
   "source": [
    "def searchRotatedSortedArray(arr, trgt):\n",
    "    l = 0\n",
    "    h = len(arr) - 1\n",
    "    while l <= h:\n",
    "        m = (l+h) >> 1\n",
    "        if arr[m] == trgt:\n",
    "            return m\n",
    "        if arr[l] <= arr[m]:\n",
    "            if trgt >= arr[l] and trgt <= arr[m]:\n",
    "                h = m -1 \n",
    "            else:\n",
    "                l = m + 1\n",
    "        else:\n",
    "            if trgt >= arr[m] and trgt <= arr[h]:\n",
    "                l = m + 1\n",
    "            else:\n",
    "                h = m - 1\n",
    "    return -1\n",
    "arr = [4,5,6,7,0,1,2]\n",
    "trgt = 6\n",
    "print(searchRotatedSortedArray(arr, trgt))"
   ]
  },
  {
   "cell_type": "markdown",
   "metadata": {},
   "source": [
    "Idea here is to just check if first element is <= middle element if so then check whether trgt lies between first and middle element if so then upper index = middle - 1 else lower index = middle + 1 otherwise check if trgt lies between middle and last element if so then lower index = middle + 1 else\n",
    "higher index = middle - 1."
   ]
  },
  {
   "cell_type": "code",
   "execution_count": 2,
   "metadata": {},
   "outputs": [
    {
     "name": "stdout",
     "output_type": "stream",
     "text": [
      "[1, 3, 2]\n"
     ]
    }
   ],
   "source": [
    "def nextPermutation(nums):\n",
    "    i = len(nums)-2\n",
    "    while i >= 0 and nums[i+1] <= nums[i]:\n",
    "        i -= 1\n",
    "    if i >= 0:\n",
    "        j = len(nums) - 1\n",
    "        while nums[j] <= nums[i]:\n",
    "            j -= 1\n",
    "        nums[i],nums[j] = nums[j], nums[i]\n",
    "        nums[i+1::] = nums[:i:-1]\n",
    "    else:\n",
    "        nums[::] = nums[::-1]\n",
    "    return nums\n",
    "arr = [1, 2, 3]\n",
    "print(nextPermutation(arr))"
   ]
  },
  {
   "cell_type": "markdown",
   "metadata": {},
   "source": [
    "Idea is to traverse backward and find first i(index) such that nums[i] > nums[i+1] if i becomes negative then just reverse array else find the largest j(index) such that nums[j] > nums[i], in other word the element found at first i index becomes smaller than element found at j index.After that swap these two element and reverse the sub-array starting at i+1 till end of array."
   ]
  },
  {
   "cell_type": "code",
   "execution_count": 1,
   "metadata": {},
   "outputs": [
    {
     "name": "stdout",
     "output_type": "stream",
     "text": [
      "7\n"
     ]
    }
   ],
   "source": [
    "import random\n",
    "def kthLargestElement(nums, k):\n",
    "    if not nums:\n",
    "        return \n",
    "    pivot = random.choice(nums)\n",
    "    greaterThanPivot = [num for num in nums if num > pivot]\n",
    "    equalThanPivot = [num for num in nums if num == pivot]\n",
    "    lessThanPivot = [num for num in nums if num < pivot]\n",
    "\n",
    "    greaterPivotLength = len(greaterThanPivot)\n",
    "    equalPivotLength = len(equalThanPivot)\n",
    "\n",
    "    if k <= greaterPivotLength:\n",
    "        return kthLargestElement(greaterThanPivot, k)\n",
    "    elif k > greaterPivotLength + equalPivotLength:\n",
    "        return kthLargestElement(lessThanPivot, k - equalPivotLength - greaterPivotLength)\n",
    "    else:\n",
    "        return equalThanPivot[0]\n",
    "\n",
    "nums = [2,3,4,5,8,7]\n",
    "print(kthLargestElement(nums, 2))"
   ]
  },
  {
   "cell_type": "code",
   "execution_count": null,
   "metadata": {},
   "outputs": [],
   "source": []
  }
 ],
 "metadata": {
  "kernelspec": {
   "display_name": "Python 3.10.7 64-bit (microsoft store)",
   "language": "python",
   "name": "python3"
  },
  "language_info": {
   "codemirror_mode": {
    "name": "ipython",
    "version": 3
   },
   "file_extension": ".py",
   "mimetype": "text/x-python",
   "name": "python",
   "nbconvert_exporter": "python",
   "pygments_lexer": "ipython3",
   "version": "3.10.7"
  },
  "orig_nbformat": 4,
  "vscode": {
   "interpreter": {
    "hash": "9f974e52163c19423cbd1dfef4db0d9f30a365e5d104447e45fa0d0fd29f6495"
   }
  }
 },
 "nbformat": 4,
 "nbformat_minor": 2
}
